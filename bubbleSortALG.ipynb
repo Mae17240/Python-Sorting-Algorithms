{
 "cells": [
  {
   "cell_type": "code",
   "execution_count": 1,
   "metadata": {},
   "outputs": [
    {
     "name": "stdout",
     "output_type": "stream",
     "text": [
      "[-22, -10, 5, 12, 20, 33, 45, 60, 4555]\n"
     ]
    }
   ],
   "source": [
    "def bubbleSort(array):\n",
    "    #inital loop to access the elements in the array. \n",
    "    for i in range (len(array)): \n",
    "        #compare array elements. \n",
    "        for j in range(0, len(array) - i - 1):\n",
    "            #sorting from > to < decending order. \n",
    "            if array[j] > array[j + 1]:\n",
    "                #swapping elements\n",
    "                temp = array[j]\n",
    "                array[j] = array[j+1]\n",
    "                array[j+1] = temp\n",
    "\n",
    "\n",
    "unsortedArray = [12, 20, 45, 60, -10, 33, 4555, -22, 5]\n",
    "#Calls the action to sort the array.\n",
    "bubbleSort(unsortedArray)\n",
    "#print the sorted array to the screen. \n",
    "print(unsortedArray)"
   ]
  }
 ],
 "metadata": {
  "kernelspec": {
   "display_name": "Python 3",
   "language": "python",
   "name": "python3"
  },
  "language_info": {
   "codemirror_mode": {
    "name": "ipython",
    "version": 3
   },
   "file_extension": ".py",
   "mimetype": "text/x-python",
   "name": "python",
   "nbconvert_exporter": "python",
   "pygments_lexer": "ipython3",
   "version": "3.12.1"
  }
 },
 "nbformat": 4,
 "nbformat_minor": 2
}
